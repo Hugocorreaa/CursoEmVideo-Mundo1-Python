{
  "nbformat": 4,
  "nbformat_minor": 0,
  "metadata": {
    "colab": {
      "name": "Aula 18 - Listas (Parte 2).ipynb",
      "provenance": [],
      "authorship_tag": "ABX9TyOln4HT1YYuGW5ESIYS4jFh",
      "include_colab_link": true
    },
    "kernelspec": {
      "name": "python3",
      "display_name": "Python 3"
    }
  },
  "cells": [
    {
      "cell_type": "markdown",
      "metadata": {
        "id": "view-in-github",
        "colab_type": "text"
      },
      "source": [
        "<a href=\"https://colab.research.google.com/github/Hugocorreaa/Python/blob/master/Aula%2018%20Listas%20(Parte%202).ipynb\" target=\"_parent\"><img src=\"https://colab.research.google.com/assets/colab-badge.svg\" alt=\"Open In Colab\"/></a>"
      ]
    },
    {
      "cell_type": "markdown",
      "metadata": {
        "id": "xdlCKMEmbqlV"
      },
      "source": [
        "# **Juntar uma Lista na Outra**\n",
        "\n",
        "\n",
        "```\n",
        "dados = ['Pedro', 25]\n",
        "\n",
        "```\n",
        "\n",
        "dados |Pedro  | 25\n",
        "---|---|---\n",
        "|0|1|\n",
        "\n",
        "\n",
        "\n",
        "```\n",
        "dados = ['Pedro', 25]\n",
        "pessoas = list()\n",
        "pessoas.append(dados[:])\n",
        "```\n",
        "\n",
        ">![](https://i.imgur.com/69JjI2jt.png)\n",
        "\n",
        "\n",
        "\n",
        "```\n",
        "pessoas = [['Pedro', 25], ['Maria', 19], ['João', 32]]\n",
        "```\n",
        "\n",
        ">![](https://i.imgur.com/5L0edHu.png)\n",
        "\n",
        "\n",
        "\n",
        "\n",
        "\n",
        "\n",
        "\n",
        "\n",
        "\n",
        "\n",
        "\n"
      ]
    },
    {
      "cell_type": "code",
      "metadata": {
        "id": "TmJzohGFNnRK"
      },
      "source": [
        "pessoas = [['Pedro', 25], ['Maria', 19], ['João', 32]]\n",
        "\n",
        "print(pessoas[0][0])\n",
        "print(pessoas[1][1])\n",
        "print(pessoas[2][0])\n",
        "print(pessoas[1])"
      ],
      "execution_count": null,
      "outputs": []
    },
    {
      "cell_type": "markdown",
      "metadata": {
        "id": "nqyYMAPtOJFf"
      },
      "source": [
        "\n",
        "\n",
        "---\n",
        "\n"
      ]
    },
    {
      "cell_type": "code",
      "metadata": {
        "id": "dARn2CDbOLCr"
      },
      "source": [
        "teste = []\n",
        "teste.append('Gustavo')\n",
        "teste.append(40)\n",
        "print(teste)\n",
        "\n",
        "galera = []\n",
        "galera.append(teste[:])\n",
        "print(galera)\n",
        "\n",
        "teste[0] = 'Maria'\n",
        "teste[1] = 22\n",
        "galera.append(teste[:])\n",
        "\n",
        "print(galera)"
      ],
      "execution_count": null,
      "outputs": []
    },
    {
      "cell_type": "markdown",
      "metadata": {
        "id": "jwVe_52EPNTf"
      },
      "source": [
        "\n",
        "\n",
        "---\n",
        "\n"
      ]
    },
    {
      "cell_type": "code",
      "metadata": {
        "id": "XyTXXg41PMW2"
      },
      "source": [
        "galera = [['João', 19], ['Ana', 33], ['Joaquim', 13], ['Maria', 45]]\n",
        "print(galera)\n",
        "\n",
        "print(galera[0])\n",
        "\n",
        "print(galera[0][0])\n",
        "\n",
        "print(galera[2][1])"
      ],
      "execution_count": null,
      "outputs": []
    },
    {
      "cell_type": "markdown",
      "metadata": {
        "id": "5WIuCtkxPuL5"
      },
      "source": [
        "\n",
        "\n",
        "---\n",
        "\n"
      ]
    },
    {
      "cell_type": "code",
      "metadata": {
        "id": "dJesUcQ1Pvpe"
      },
      "source": [
        "galera = [['João', 19], ['Ana', 33], ['Joaquim', 13], ['Maria', 45]]\n",
        "\n",
        "for p in galera:\n",
        "  print(p)\n",
        "print('-'*20)\n",
        "\n",
        "for p in galera:\n",
        "  print(p[0])\n",
        "print('-'*20)\n",
        "\n",
        "for p in galera:\n",
        "  print(f'{p[0]} tem {p[1]} anos de idade.')"
      ],
      "execution_count": null,
      "outputs": []
    },
    {
      "cell_type": "markdown",
      "metadata": {
        "id": "7qBf_6o_QTBO"
      },
      "source": [
        "\n",
        "\n",
        "---\n",
        "\n"
      ]
    },
    {
      "cell_type": "code",
      "metadata": {
        "id": "DRrs-aWxQT5d"
      },
      "source": [
        "galera = []\n",
        "dado = []\n",
        "\n",
        "for c in range(0, 3):\n",
        "  dado.append(str(input('Nome: ')))\n",
        "  dado.append(int(input('Idade: ')))\n",
        "  galera.append(dado[:])\n",
        "  dado.clear()\n",
        "print(galera)\n",
        "\n"
      ],
      "execution_count": null,
      "outputs": []
    },
    {
      "cell_type": "markdown",
      "metadata": {
        "id": "Yf21iUN1RDBT"
      },
      "source": [
        "\n",
        "\n",
        "---\n",
        "\n",
        "\n",
        "Mostrar somente os maiores de idade"
      ]
    },
    {
      "cell_type": "code",
      "metadata": {
        "id": "7TstuVXKRGO9"
      },
      "source": [
        "galera = []\n",
        "dado = []\n",
        "totalmaior = totalmenor = 0\n",
        "\n",
        "for c in range(0, 3):\n",
        "  dado.append(str(input('Nome: ')))\n",
        "  dado.append(int(input('Idade: ')))\n",
        "  galera.append(dado[:])\n",
        "  dado.clear()\n",
        "\n",
        "for p in galera:\n",
        "  if p[1] >= 21:\n",
        "    print(f'{p[0]} é maior de idade.')\n",
        "    totalmaior += 1\n",
        "  else:\n",
        "    print(f'{p[0]} é menor de idade')\n",
        "    totalmenor += 1\n",
        "\n",
        "print(f'Temos {totalmaior} maiores e {totalmenor} menores de idade.')"
      ],
      "execution_count": null,
      "outputs": []
    }
  ]
}